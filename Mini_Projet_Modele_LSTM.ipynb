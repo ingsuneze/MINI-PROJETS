{
 "cells": [
  {
   "cell_type": "markdown",
   "id": "49e8e8c5",
   "metadata": {},
   "source": [
    "# Mini-Projet : Modèle de prédiction du l’EURUSD par les techniques du        deep learning ( Cas des réseaux LSTM )"
   ]
  },
  {
   "cell_type": "code",
   "execution_count": 1,
   "id": "fea8a645",
   "metadata": {},
   "outputs": [
    {
     "name": "stdout",
     "output_type": "stream",
     "text": [
      "Le répertoire courant est : C:\\Users\\DELL\n",
      "Le nom du répertoire est : DELL\n"
     ]
    }
   ],
   "source": [
    "import os\n",
    "# récupérer le chemin du répertoire courant\n",
    "path = os.getcwd()\n",
    "print(\"Le répertoire courant est : \" + path)\n",
    "# récupérer le nom du répertoire courant\n",
    "repn = os.path.basename(path)\n",
    "print(\"Le nom du répertoire est : \" + repn)"
   ]
  },
  {
   "cell_type": "code",
   "execution_count": 2,
   "id": "34bfbfff",
   "metadata": {},
   "outputs": [],
   "source": [
    "# fixons la graine aléatoire pour assurer la reproducibilité\n",
    "import numpy as np\n",
    "np.random.seed(145)"
   ]
  },
  {
   "cell_type": "markdown",
   "id": "8691ddb5",
   "metadata": {},
   "source": [
    "# ANALYSE EXPLORATOIRE DES DONNES\n",
    "##   Importation des librairies et de la base données"
   ]
  },
  {
   "cell_type": "code",
   "execution_count": 3,
   "id": "18e645be",
   "metadata": {},
   "outputs": [],
   "source": [
    "### Importation des données \n",
    "\n",
    "import pandas as pd\n",
    "import numpy\n",
    "import math\n",
    "from numpy import set_printoptions\n",
    "from sklearn.preprocessing import MinMaxScaler\n",
    "from matplotlib import pyplot as plt\n",
    "import matplotlib.pyplot as plt \n",
    "# %matplotlib inline\n",
    "import seaborn as sns\n",
    "from scipy import stats\n",
    "from scipy.stats.mstats import winsorize\n",
    "\n",
    "from keras.preprocessing import sequence\n",
    "from keras.models import Sequential\n",
    "from keras.layers import Dense, Activation, Embedding\n",
    "from keras.layers import LSTM"
   ]
  },
  {
   "cell_type": "code",
   "execution_count": 4,
   "id": "24009178",
   "metadata": {},
   "outputs": [],
   "source": [
    "df= pd.read_csv('file:///C:/Users/DELL/Desktop/Mini_projet10/EUR_USD.csv' , sep=';')"
   ]
  },
  {
   "cell_type": "code",
   "execution_count": 5,
   "id": "2213ccd2",
   "metadata": {},
   "outputs": [
    {
     "data": {
      "text/html": [
       "<div>\n",
       "<style scoped>\n",
       "    .dataframe tbody tr th:only-of-type {\n",
       "        vertical-align: middle;\n",
       "    }\n",
       "\n",
       "    .dataframe tbody tr th {\n",
       "        vertical-align: top;\n",
       "    }\n",
       "\n",
       "    .dataframe thead th {\n",
       "        text-align: right;\n",
       "    }\n",
       "</style>\n",
       "<table border=\"1\" class=\"dataframe\">\n",
       "  <thead>\n",
       "    <tr style=\"text-align: right;\">\n",
       "      <th></th>\n",
       "      <th>DATE</th>\n",
       "      <th>OPEN</th>\n",
       "      <th>HIGH</th>\n",
       "      <th>LOW</th>\n",
       "      <th>CLOSE</th>\n",
       "      <th>TICKVOL</th>\n",
       "      <th>VOL</th>\n",
       "      <th>SPREAD</th>\n",
       "    </tr>\n",
       "  </thead>\n",
       "  <tbody>\n",
       "    <tr>\n",
       "      <th>0</th>\n",
       "      <td>2000.02.01</td>\n",
       "      <td>0.9711</td>\n",
       "      <td>0.9782</td>\n",
       "      <td>0.9667</td>\n",
       "      <td>0.9713</td>\n",
       "      <td>6788</td>\n",
       "      <td>0</td>\n",
       "      <td>50</td>\n",
       "    </tr>\n",
       "    <tr>\n",
       "      <th>1</th>\n",
       "      <td>2000.02.02</td>\n",
       "      <td>0.9713</td>\n",
       "      <td>0.9808</td>\n",
       "      <td>0.9694</td>\n",
       "      <td>0.9765</td>\n",
       "      <td>6744</td>\n",
       "      <td>0</td>\n",
       "      <td>50</td>\n",
       "    </tr>\n",
       "    <tr>\n",
       "      <th>2</th>\n",
       "      <td>2000.02.03</td>\n",
       "      <td>0.9767</td>\n",
       "      <td>0.9947</td>\n",
       "      <td>0.9710</td>\n",
       "      <td>0.9898</td>\n",
       "      <td>7679</td>\n",
       "      <td>0</td>\n",
       "      <td>50</td>\n",
       "    </tr>\n",
       "    <tr>\n",
       "      <th>3</th>\n",
       "      <td>2000.02.04</td>\n",
       "      <td>0.9900</td>\n",
       "      <td>0.9940</td>\n",
       "      <td>0.9747</td>\n",
       "      <td>0.9840</td>\n",
       "      <td>7380</td>\n",
       "      <td>0</td>\n",
       "      <td>50</td>\n",
       "    </tr>\n",
       "    <tr>\n",
       "      <th>4</th>\n",
       "      <td>2000.02.07</td>\n",
       "      <td>0.9832</td>\n",
       "      <td>0.9832</td>\n",
       "      <td>0.9754</td>\n",
       "      <td>0.9809</td>\n",
       "      <td>5721</td>\n",
       "      <td>0</td>\n",
       "      <td>50</td>\n",
       "    </tr>\n",
       "    <tr>\n",
       "      <th>5</th>\n",
       "      <td>2000.02.08</td>\n",
       "      <td>0.9810</td>\n",
       "      <td>0.9914</td>\n",
       "      <td>0.9786</td>\n",
       "      <td>0.9859</td>\n",
       "      <td>6799</td>\n",
       "      <td>0</td>\n",
       "      <td>50</td>\n",
       "    </tr>\n",
       "    <tr>\n",
       "      <th>6</th>\n",
       "      <td>2000.02.09</td>\n",
       "      <td>0.9860</td>\n",
       "      <td>0.9971</td>\n",
       "      <td>0.9856</td>\n",
       "      <td>0.9934</td>\n",
       "      <td>7469</td>\n",
       "      <td>0</td>\n",
       "      <td>50</td>\n",
       "    </tr>\n",
       "    <tr>\n",
       "      <th>7</th>\n",
       "      <td>2000.02.10</td>\n",
       "      <td>0.9934</td>\n",
       "      <td>0.9962</td>\n",
       "      <td>0.9831</td>\n",
       "      <td>0.9852</td>\n",
       "      <td>7079</td>\n",
       "      <td>0</td>\n",
       "      <td>50</td>\n",
       "    </tr>\n",
       "    <tr>\n",
       "      <th>8</th>\n",
       "      <td>2000.02.11</td>\n",
       "      <td>0.9853</td>\n",
       "      <td>0.9886</td>\n",
       "      <td>0.9786</td>\n",
       "      <td>0.9884</td>\n",
       "      <td>6296</td>\n",
       "      <td>0</td>\n",
       "      <td>50</td>\n",
       "    </tr>\n",
       "    <tr>\n",
       "      <th>9</th>\n",
       "      <td>2000.02.14</td>\n",
       "      <td>0.9877</td>\n",
       "      <td>0.9916</td>\n",
       "      <td>0.9776</td>\n",
       "      <td>0.9785</td>\n",
       "      <td>6245</td>\n",
       "      <td>0</td>\n",
       "      <td>50</td>\n",
       "    </tr>\n",
       "    <tr>\n",
       "      <th>10</th>\n",
       "      <td>2000.02.15</td>\n",
       "      <td>0.9781</td>\n",
       "      <td>0.9862</td>\n",
       "      <td>0.9763</td>\n",
       "      <td>0.9813</td>\n",
       "      <td>6522</td>\n",
       "      <td>0</td>\n",
       "      <td>50</td>\n",
       "    </tr>\n",
       "    <tr>\n",
       "      <th>11</th>\n",
       "      <td>2000.02.16</td>\n",
       "      <td>0.9815</td>\n",
       "      <td>0.9878</td>\n",
       "      <td>0.9790</td>\n",
       "      <td>0.9863</td>\n",
       "      <td>5691</td>\n",
       "      <td>0</td>\n",
       "      <td>50</td>\n",
       "    </tr>\n",
       "    <tr>\n",
       "      <th>12</th>\n",
       "      <td>2000.02.17</td>\n",
       "      <td>0.9862</td>\n",
       "      <td>0.9958</td>\n",
       "      <td>0.9837</td>\n",
       "      <td>0.9880</td>\n",
       "      <td>6316</td>\n",
       "      <td>0</td>\n",
       "      <td>50</td>\n",
       "    </tr>\n",
       "    <tr>\n",
       "      <th>13</th>\n",
       "      <td>2000.02.18</td>\n",
       "      <td>0.9881</td>\n",
       "      <td>0.9902</td>\n",
       "      <td>0.9809</td>\n",
       "      <td>0.9845</td>\n",
       "      <td>5990</td>\n",
       "      <td>0</td>\n",
       "      <td>50</td>\n",
       "    </tr>\n",
       "    <tr>\n",
       "      <th>14</th>\n",
       "      <td>2000.02.21</td>\n",
       "      <td>0.9854</td>\n",
       "      <td>0.9889</td>\n",
       "      <td>0.9843</td>\n",
       "      <td>0.9878</td>\n",
       "      <td>5385</td>\n",
       "      <td>0</td>\n",
       "      <td>50</td>\n",
       "    </tr>\n",
       "  </tbody>\n",
       "</table>\n",
       "</div>"
      ],
      "text/plain": [
       "          DATE    OPEN    HIGH     LOW   CLOSE  TICKVOL VOL  SPREAD\n",
       "0   2000.02.01  0.9711  0.9782  0.9667  0.9713     6788   0      50\n",
       "1   2000.02.02  0.9713  0.9808  0.9694  0.9765     6744   0      50\n",
       "2   2000.02.03  0.9767  0.9947  0.9710  0.9898     7679   0      50\n",
       "3   2000.02.04  0.9900  0.9940  0.9747  0.9840     7380   0      50\n",
       "4   2000.02.07  0.9832  0.9832  0.9754  0.9809     5721   0      50\n",
       "5   2000.02.08  0.9810  0.9914  0.9786  0.9859     6799   0      50\n",
       "6   2000.02.09  0.9860  0.9971  0.9856  0.9934     7469   0      50\n",
       "7   2000.02.10  0.9934  0.9962  0.9831  0.9852     7079   0      50\n",
       "8   2000.02.11  0.9853  0.9886  0.9786  0.9884     6296   0      50\n",
       "9   2000.02.14  0.9877  0.9916  0.9776  0.9785     6245   0      50\n",
       "10  2000.02.15  0.9781  0.9862  0.9763  0.9813     6522   0      50\n",
       "11  2000.02.16  0.9815  0.9878  0.9790  0.9863     5691   0      50\n",
       "12  2000.02.17  0.9862  0.9958  0.9837  0.9880     6316   0      50\n",
       "13  2000.02.18  0.9881  0.9902  0.9809  0.9845     5990   0      50\n",
       "14  2000.02.21  0.9854  0.9889  0.9843  0.9878     5385   0      50"
      ]
     },
     "execution_count": 5,
     "metadata": {},
     "output_type": "execute_result"
    }
   ],
   "source": [
    "# Affichons les 15 premières lignes\n",
    "df.head(15)"
   ]
  },
  {
   "cell_type": "code",
   "execution_count": 6,
   "id": "3a4de346",
   "metadata": {},
   "outputs": [],
   "source": [
    "# nature des variables"
   ]
  },
  {
   "cell_type": "code",
   "execution_count": 7,
   "id": "1807c149",
   "metadata": {},
   "outputs": [
    {
     "name": "stdout",
     "output_type": "stream",
     "text": [
      "\n",
      " Types de Données:\n"
     ]
    },
    {
     "data": {
      "text/plain": [
       "DATE        object\n",
       "OPEN       float64\n",
       "HIGH       float64\n",
       "LOW        float64\n",
       "CLOSE      float64\n",
       "TICKVOL      int64\n",
       "VOL         object\n",
       "SPREAD       int64\n",
       "dtype: object"
      ]
     },
     "execution_count": 7,
     "metadata": {},
     "output_type": "execute_result"
    }
   ],
   "source": [
    "print ('\\n Types de Données:')\n",
    "df.dtypes"
   ]
  },
  {
   "cell_type": "code",
   "execution_count": 8,
   "id": "2c60d415",
   "metadata": {},
   "outputs": [
    {
     "data": {
      "text/plain": [
       "DATE       0\n",
       "OPEN       0\n",
       "HIGH       0\n",
       "LOW        0\n",
       "CLOSE      0\n",
       "TICKVOL    0\n",
       "VOL        0\n",
       "SPREAD     0\n",
       "dtype: int64"
      ]
     },
     "execution_count": 8,
     "metadata": {},
     "output_type": "execute_result"
    }
   ],
   "source": [
    "# valeurs manquantes\n",
    "df.isna().sum()"
   ]
  },
  {
   "cell_type": "markdown",
   "id": "2c653bf9",
   "metadata": {},
   "source": [
    "##### Le jeu de données ne contient aucune valeur manquante"
   ]
  },
  {
   "cell_type": "code",
   "execution_count": 9,
   "id": "6ed448cd",
   "metadata": {},
   "outputs": [],
   "source": [
    "from datetime import datetime\n",
    "con =df['DATE']\n",
    "df['DATE']=pd.to_datetime(df['DATE'])\n"
   ]
  },
  {
   "cell_type": "markdown",
   "id": "37c7227b",
   "metadata": {},
   "source": [
    "#### le type donnée est passé à datetime64[ns] "
   ]
  },
  {
   "cell_type": "markdown",
   "id": "e13a7d37",
   "metadata": {},
   "source": [
    "#### Trions les données par date"
   ]
  },
  {
   "cell_type": "code",
   "execution_count": 10,
   "id": "f37a0076",
   "metadata": {},
   "outputs": [
    {
     "data": {
      "text/html": [
       "<div>\n",
       "<style scoped>\n",
       "    .dataframe tbody tr th:only-of-type {\n",
       "        vertical-align: middle;\n",
       "    }\n",
       "\n",
       "    .dataframe tbody tr th {\n",
       "        vertical-align: top;\n",
       "    }\n",
       "\n",
       "    .dataframe thead th {\n",
       "        text-align: right;\n",
       "    }\n",
       "</style>\n",
       "<table border=\"1\" class=\"dataframe\">\n",
       "  <thead>\n",
       "    <tr style=\"text-align: right;\">\n",
       "      <th></th>\n",
       "      <th>DATE</th>\n",
       "      <th>OPEN</th>\n",
       "      <th>HIGH</th>\n",
       "      <th>LOW</th>\n",
       "      <th>CLOSE</th>\n",
       "      <th>TICKVOL</th>\n",
       "      <th>VOL</th>\n",
       "      <th>SPREAD</th>\n",
       "    </tr>\n",
       "  </thead>\n",
       "  <tbody>\n",
       "    <tr>\n",
       "      <th>0</th>\n",
       "      <td>2000-02-01</td>\n",
       "      <td>0.9711</td>\n",
       "      <td>0.9782</td>\n",
       "      <td>0.9667</td>\n",
       "      <td>0.9713</td>\n",
       "      <td>6788</td>\n",
       "      <td>0</td>\n",
       "      <td>50</td>\n",
       "    </tr>\n",
       "    <tr>\n",
       "      <th>1</th>\n",
       "      <td>2000-02-02</td>\n",
       "      <td>0.9713</td>\n",
       "      <td>0.9808</td>\n",
       "      <td>0.9694</td>\n",
       "      <td>0.9765</td>\n",
       "      <td>6744</td>\n",
       "      <td>0</td>\n",
       "      <td>50</td>\n",
       "    </tr>\n",
       "    <tr>\n",
       "      <th>2</th>\n",
       "      <td>2000-02-03</td>\n",
       "      <td>0.9767</td>\n",
       "      <td>0.9947</td>\n",
       "      <td>0.9710</td>\n",
       "      <td>0.9898</td>\n",
       "      <td>7679</td>\n",
       "      <td>0</td>\n",
       "      <td>50</td>\n",
       "    </tr>\n",
       "    <tr>\n",
       "      <th>3</th>\n",
       "      <td>2000-02-04</td>\n",
       "      <td>0.9900</td>\n",
       "      <td>0.9940</td>\n",
       "      <td>0.9747</td>\n",
       "      <td>0.9840</td>\n",
       "      <td>7380</td>\n",
       "      <td>0</td>\n",
       "      <td>50</td>\n",
       "    </tr>\n",
       "    <tr>\n",
       "      <th>4</th>\n",
       "      <td>2000-02-07</td>\n",
       "      <td>0.9832</td>\n",
       "      <td>0.9832</td>\n",
       "      <td>0.9754</td>\n",
       "      <td>0.9809</td>\n",
       "      <td>5721</td>\n",
       "      <td>0</td>\n",
       "      <td>50</td>\n",
       "    </tr>\n",
       "    <tr>\n",
       "      <th>5</th>\n",
       "      <td>2000-02-08</td>\n",
       "      <td>0.9810</td>\n",
       "      <td>0.9914</td>\n",
       "      <td>0.9786</td>\n",
       "      <td>0.9859</td>\n",
       "      <td>6799</td>\n",
       "      <td>0</td>\n",
       "      <td>50</td>\n",
       "    </tr>\n",
       "    <tr>\n",
       "      <th>6</th>\n",
       "      <td>2000-02-09</td>\n",
       "      <td>0.9860</td>\n",
       "      <td>0.9971</td>\n",
       "      <td>0.9856</td>\n",
       "      <td>0.9934</td>\n",
       "      <td>7469</td>\n",
       "      <td>0</td>\n",
       "      <td>50</td>\n",
       "    </tr>\n",
       "    <tr>\n",
       "      <th>7</th>\n",
       "      <td>2000-02-10</td>\n",
       "      <td>0.9934</td>\n",
       "      <td>0.9962</td>\n",
       "      <td>0.9831</td>\n",
       "      <td>0.9852</td>\n",
       "      <td>7079</td>\n",
       "      <td>0</td>\n",
       "      <td>50</td>\n",
       "    </tr>\n",
       "    <tr>\n",
       "      <th>8</th>\n",
       "      <td>2000-02-11</td>\n",
       "      <td>0.9853</td>\n",
       "      <td>0.9886</td>\n",
       "      <td>0.9786</td>\n",
       "      <td>0.9884</td>\n",
       "      <td>6296</td>\n",
       "      <td>0</td>\n",
       "      <td>50</td>\n",
       "    </tr>\n",
       "    <tr>\n",
       "      <th>9</th>\n",
       "      <td>2000-02-14</td>\n",
       "      <td>0.9877</td>\n",
       "      <td>0.9916</td>\n",
       "      <td>0.9776</td>\n",
       "      <td>0.9785</td>\n",
       "      <td>6245</td>\n",
       "      <td>0</td>\n",
       "      <td>50</td>\n",
       "    </tr>\n",
       "    <tr>\n",
       "      <th>10</th>\n",
       "      <td>2000-02-15</td>\n",
       "      <td>0.9781</td>\n",
       "      <td>0.9862</td>\n",
       "      <td>0.9763</td>\n",
       "      <td>0.9813</td>\n",
       "      <td>6522</td>\n",
       "      <td>0</td>\n",
       "      <td>50</td>\n",
       "    </tr>\n",
       "    <tr>\n",
       "      <th>11</th>\n",
       "      <td>2000-02-16</td>\n",
       "      <td>0.9815</td>\n",
       "      <td>0.9878</td>\n",
       "      <td>0.9790</td>\n",
       "      <td>0.9863</td>\n",
       "      <td>5691</td>\n",
       "      <td>0</td>\n",
       "      <td>50</td>\n",
       "    </tr>\n",
       "    <tr>\n",
       "      <th>12</th>\n",
       "      <td>2000-02-17</td>\n",
       "      <td>0.9862</td>\n",
       "      <td>0.9958</td>\n",
       "      <td>0.9837</td>\n",
       "      <td>0.9880</td>\n",
       "      <td>6316</td>\n",
       "      <td>0</td>\n",
       "      <td>50</td>\n",
       "    </tr>\n",
       "    <tr>\n",
       "      <th>13</th>\n",
       "      <td>2000-02-18</td>\n",
       "      <td>0.9881</td>\n",
       "      <td>0.9902</td>\n",
       "      <td>0.9809</td>\n",
       "      <td>0.9845</td>\n",
       "      <td>5990</td>\n",
       "      <td>0</td>\n",
       "      <td>50</td>\n",
       "    </tr>\n",
       "    <tr>\n",
       "      <th>14</th>\n",
       "      <td>2000-02-21</td>\n",
       "      <td>0.9854</td>\n",
       "      <td>0.9889</td>\n",
       "      <td>0.9843</td>\n",
       "      <td>0.9878</td>\n",
       "      <td>5385</td>\n",
       "      <td>0</td>\n",
       "      <td>50</td>\n",
       "    </tr>\n",
       "  </tbody>\n",
       "</table>\n",
       "</div>"
      ],
      "text/plain": [
       "         DATE    OPEN    HIGH     LOW   CLOSE  TICKVOL VOL  SPREAD\n",
       "0  2000-02-01  0.9711  0.9782  0.9667  0.9713     6788   0      50\n",
       "1  2000-02-02  0.9713  0.9808  0.9694  0.9765     6744   0      50\n",
       "2  2000-02-03  0.9767  0.9947  0.9710  0.9898     7679   0      50\n",
       "3  2000-02-04  0.9900  0.9940  0.9747  0.9840     7380   0      50\n",
       "4  2000-02-07  0.9832  0.9832  0.9754  0.9809     5721   0      50\n",
       "5  2000-02-08  0.9810  0.9914  0.9786  0.9859     6799   0      50\n",
       "6  2000-02-09  0.9860  0.9971  0.9856  0.9934     7469   0      50\n",
       "7  2000-02-10  0.9934  0.9962  0.9831  0.9852     7079   0      50\n",
       "8  2000-02-11  0.9853  0.9886  0.9786  0.9884     6296   0      50\n",
       "9  2000-02-14  0.9877  0.9916  0.9776  0.9785     6245   0      50\n",
       "10 2000-02-15  0.9781  0.9862  0.9763  0.9813     6522   0      50\n",
       "11 2000-02-16  0.9815  0.9878  0.9790  0.9863     5691   0      50\n",
       "12 2000-02-17  0.9862  0.9958  0.9837  0.9880     6316   0      50\n",
       "13 2000-02-18  0.9881  0.9902  0.9809  0.9845     5990   0      50\n",
       "14 2000-02-21  0.9854  0.9889  0.9843  0.9878     5385   0      50"
      ]
     },
     "execution_count": 10,
     "metadata": {},
     "output_type": "execute_result"
    }
   ],
   "source": [
    "df=df.sort_values('DATE')\n",
    "df.head(15)                     "
   ]
  },
  {
   "cell_type": "code",
   "execution_count": 11,
   "id": "bc8764e9",
   "metadata": {},
   "outputs": [
    {
     "data": {
      "text/html": [
       "<div>\n",
       "<style scoped>\n",
       "    .dataframe tbody tr th:only-of-type {\n",
       "        vertical-align: middle;\n",
       "    }\n",
       "\n",
       "    .dataframe tbody tr th {\n",
       "        vertical-align: top;\n",
       "    }\n",
       "\n",
       "    .dataframe thead th {\n",
       "        text-align: right;\n",
       "    }\n",
       "</style>\n",
       "<table border=\"1\" class=\"dataframe\">\n",
       "  <thead>\n",
       "    <tr style=\"text-align: right;\">\n",
       "      <th></th>\n",
       "      <th>DATE</th>\n",
       "      <th>OPEN</th>\n",
       "      <th>HIGH</th>\n",
       "      <th>LOW</th>\n",
       "      <th>CLOSE</th>\n",
       "      <th>TICKVOL</th>\n",
       "      <th>VOL</th>\n",
       "      <th>SPREAD</th>\n",
       "    </tr>\n",
       "  </thead>\n",
       "  <tbody>\n",
       "    <tr>\n",
       "      <th>0</th>\n",
       "      <td>2000-02-01</td>\n",
       "      <td>0.97110</td>\n",
       "      <td>0.97820</td>\n",
       "      <td>0.96670</td>\n",
       "      <td>0.97130</td>\n",
       "      <td>6788</td>\n",
       "      <td>0</td>\n",
       "      <td>50</td>\n",
       "    </tr>\n",
       "    <tr>\n",
       "      <th>1</th>\n",
       "      <td>2000-02-02</td>\n",
       "      <td>0.97130</td>\n",
       "      <td>0.98080</td>\n",
       "      <td>0.96940</td>\n",
       "      <td>0.97650</td>\n",
       "      <td>6744</td>\n",
       "      <td>0</td>\n",
       "      <td>50</td>\n",
       "    </tr>\n",
       "    <tr>\n",
       "      <th>2</th>\n",
       "      <td>2000-02-03</td>\n",
       "      <td>0.97670</td>\n",
       "      <td>0.99470</td>\n",
       "      <td>0.97100</td>\n",
       "      <td>0.98980</td>\n",
       "      <td>7679</td>\n",
       "      <td>0</td>\n",
       "      <td>50</td>\n",
       "    </tr>\n",
       "    <tr>\n",
       "      <th>3</th>\n",
       "      <td>2000-02-04</td>\n",
       "      <td>0.99000</td>\n",
       "      <td>0.99400</td>\n",
       "      <td>0.97470</td>\n",
       "      <td>0.98400</td>\n",
       "      <td>7380</td>\n",
       "      <td>0</td>\n",
       "      <td>50</td>\n",
       "    </tr>\n",
       "    <tr>\n",
       "      <th>4</th>\n",
       "      <td>2000-02-07</td>\n",
       "      <td>0.98320</td>\n",
       "      <td>0.98320</td>\n",
       "      <td>0.97540</td>\n",
       "      <td>0.98090</td>\n",
       "      <td>5721</td>\n",
       "      <td>0</td>\n",
       "      <td>50</td>\n",
       "    </tr>\n",
       "    <tr>\n",
       "      <th>...</th>\n",
       "      <td>...</td>\n",
       "      <td>...</td>\n",
       "      <td>...</td>\n",
       "      <td>...</td>\n",
       "      <td>...</td>\n",
       "      <td>...</td>\n",
       "      <td>...</td>\n",
       "      <td>...</td>\n",
       "    </tr>\n",
       "    <tr>\n",
       "      <th>5750</th>\n",
       "      <td>2022-02-21</td>\n",
       "      <td>1.13141</td>\n",
       "      <td>1.13894</td>\n",
       "      <td>1.13058</td>\n",
       "      <td>1.13112</td>\n",
       "      <td>36104</td>\n",
       "      <td>0</td>\n",
       "      <td>16</td>\n",
       "    </tr>\n",
       "    <tr>\n",
       "      <th>5751</th>\n",
       "      <td>2022-02-22</td>\n",
       "      <td>1.13102</td>\n",
       "      <td>1.13660</td>\n",
       "      <td>1.12870</td>\n",
       "      <td>1.13225</td>\n",
       "      <td>62972</td>\n",
       "      <td>0</td>\n",
       "      <td>16</td>\n",
       "    </tr>\n",
       "    <tr>\n",
       "      <th>5752</th>\n",
       "      <td>2022-02-23</td>\n",
       "      <td>1.13223</td>\n",
       "      <td>1.13581</td>\n",
       "      <td>1.13003</td>\n",
       "      <td>1.13013</td>\n",
       "      <td>38769</td>\n",
       "      <td>0</td>\n",
       "      <td>16</td>\n",
       "    </tr>\n",
       "    <tr>\n",
       "      <th>5753</th>\n",
       "      <td>2022-02-24</td>\n",
       "      <td>1.13012</td>\n",
       "      <td>1.13079</td>\n",
       "      <td>1.11054</td>\n",
       "      <td>1.11894</td>\n",
       "      <td>104922</td>\n",
       "      <td>0</td>\n",
       "      <td>16</td>\n",
       "    </tr>\n",
       "    <tr>\n",
       "      <th>5754</th>\n",
       "      <td>2022-02-25</td>\n",
       "      <td>1.11896</td>\n",
       "      <td>1.12732</td>\n",
       "      <td>1.11651</td>\n",
       "      <td>1.12696</td>\n",
       "      <td>74669</td>\n",
       "      <td>0</td>\n",
       "      <td>16</td>\n",
       "    </tr>\n",
       "  </tbody>\n",
       "</table>\n",
       "<p>5755 rows × 8 columns</p>\n",
       "</div>"
      ],
      "text/plain": [
       "           DATE     OPEN     HIGH      LOW    CLOSE  TICKVOL VOL  SPREAD\n",
       "0    2000-02-01  0.97110  0.97820  0.96670  0.97130     6788   0      50\n",
       "1    2000-02-02  0.97130  0.98080  0.96940  0.97650     6744   0      50\n",
       "2    2000-02-03  0.97670  0.99470  0.97100  0.98980     7679   0      50\n",
       "3    2000-02-04  0.99000  0.99400  0.97470  0.98400     7380   0      50\n",
       "4    2000-02-07  0.98320  0.98320  0.97540  0.98090     5721   0      50\n",
       "...         ...      ...      ...      ...      ...      ...  ..     ...\n",
       "5750 2022-02-21  1.13141  1.13894  1.13058  1.13112    36104   0      16\n",
       "5751 2022-02-22  1.13102  1.13660  1.12870  1.13225    62972   0      16\n",
       "5752 2022-02-23  1.13223  1.13581  1.13003  1.13013    38769   0      16\n",
       "5753 2022-02-24  1.13012  1.13079  1.11054  1.11894   104922   0      16\n",
       "5754 2022-02-25  1.11896  1.12732  1.11651  1.12696    74669   0      16\n",
       "\n",
       "[5755 rows x 8 columns]"
      ]
     },
     "execution_count": 11,
     "metadata": {},
     "output_type": "execute_result"
    }
   ],
   "source": [
    "df=pd.DataFrame(df)\n",
    "df"
   ]
  },
  {
   "cell_type": "code",
   "execution_count": 12,
   "id": "c3b7cd31",
   "metadata": {},
   "outputs": [],
   "source": [
    "df1=pd.DataFrame(df,columns=['DATE','LOW','HIGH','CLOSE','OPEN'])"
   ]
  },
  {
   "cell_type": "code",
   "execution_count": 13,
   "id": "9593d8f4",
   "metadata": {},
   "outputs": [
    {
     "data": {
      "text/html": [
       "<div>\n",
       "<style scoped>\n",
       "    .dataframe tbody tr th:only-of-type {\n",
       "        vertical-align: middle;\n",
       "    }\n",
       "\n",
       "    .dataframe tbody tr th {\n",
       "        vertical-align: top;\n",
       "    }\n",
       "\n",
       "    .dataframe thead th {\n",
       "        text-align: right;\n",
       "    }\n",
       "</style>\n",
       "<table border=\"1\" class=\"dataframe\">\n",
       "  <thead>\n",
       "    <tr style=\"text-align: right;\">\n",
       "      <th></th>\n",
       "      <th>DATE</th>\n",
       "      <th>LOW</th>\n",
       "      <th>HIGH</th>\n",
       "      <th>CLOSE</th>\n",
       "      <th>OPEN</th>\n",
       "    </tr>\n",
       "  </thead>\n",
       "  <tbody>\n",
       "    <tr>\n",
       "      <th>0</th>\n",
       "      <td>2000-02-01</td>\n",
       "      <td>0.96670</td>\n",
       "      <td>0.97820</td>\n",
       "      <td>0.97130</td>\n",
       "      <td>0.97110</td>\n",
       "    </tr>\n",
       "    <tr>\n",
       "      <th>1</th>\n",
       "      <td>2000-02-02</td>\n",
       "      <td>0.96940</td>\n",
       "      <td>0.98080</td>\n",
       "      <td>0.97650</td>\n",
       "      <td>0.97130</td>\n",
       "    </tr>\n",
       "    <tr>\n",
       "      <th>2</th>\n",
       "      <td>2000-02-03</td>\n",
       "      <td>0.97100</td>\n",
       "      <td>0.99470</td>\n",
       "      <td>0.98980</td>\n",
       "      <td>0.97670</td>\n",
       "    </tr>\n",
       "    <tr>\n",
       "      <th>3</th>\n",
       "      <td>2000-02-04</td>\n",
       "      <td>0.97470</td>\n",
       "      <td>0.99400</td>\n",
       "      <td>0.98400</td>\n",
       "      <td>0.99000</td>\n",
       "    </tr>\n",
       "    <tr>\n",
       "      <th>4</th>\n",
       "      <td>2000-02-07</td>\n",
       "      <td>0.97540</td>\n",
       "      <td>0.98320</td>\n",
       "      <td>0.98090</td>\n",
       "      <td>0.98320</td>\n",
       "    </tr>\n",
       "    <tr>\n",
       "      <th>...</th>\n",
       "      <td>...</td>\n",
       "      <td>...</td>\n",
       "      <td>...</td>\n",
       "      <td>...</td>\n",
       "      <td>...</td>\n",
       "    </tr>\n",
       "    <tr>\n",
       "      <th>5750</th>\n",
       "      <td>2022-02-21</td>\n",
       "      <td>1.13058</td>\n",
       "      <td>1.13894</td>\n",
       "      <td>1.13112</td>\n",
       "      <td>1.13141</td>\n",
       "    </tr>\n",
       "    <tr>\n",
       "      <th>5751</th>\n",
       "      <td>2022-02-22</td>\n",
       "      <td>1.12870</td>\n",
       "      <td>1.13660</td>\n",
       "      <td>1.13225</td>\n",
       "      <td>1.13102</td>\n",
       "    </tr>\n",
       "    <tr>\n",
       "      <th>5752</th>\n",
       "      <td>2022-02-23</td>\n",
       "      <td>1.13003</td>\n",
       "      <td>1.13581</td>\n",
       "      <td>1.13013</td>\n",
       "      <td>1.13223</td>\n",
       "    </tr>\n",
       "    <tr>\n",
       "      <th>5753</th>\n",
       "      <td>2022-02-24</td>\n",
       "      <td>1.11054</td>\n",
       "      <td>1.13079</td>\n",
       "      <td>1.11894</td>\n",
       "      <td>1.13012</td>\n",
       "    </tr>\n",
       "    <tr>\n",
       "      <th>5754</th>\n",
       "      <td>2022-02-25</td>\n",
       "      <td>1.11651</td>\n",
       "      <td>1.12732</td>\n",
       "      <td>1.12696</td>\n",
       "      <td>1.11896</td>\n",
       "    </tr>\n",
       "  </tbody>\n",
       "</table>\n",
       "<p>5755 rows × 5 columns</p>\n",
       "</div>"
      ],
      "text/plain": [
       "           DATE      LOW     HIGH    CLOSE     OPEN\n",
       "0    2000-02-01  0.96670  0.97820  0.97130  0.97110\n",
       "1    2000-02-02  0.96940  0.98080  0.97650  0.97130\n",
       "2    2000-02-03  0.97100  0.99470  0.98980  0.97670\n",
       "3    2000-02-04  0.97470  0.99400  0.98400  0.99000\n",
       "4    2000-02-07  0.97540  0.98320  0.98090  0.98320\n",
       "...         ...      ...      ...      ...      ...\n",
       "5750 2022-02-21  1.13058  1.13894  1.13112  1.13141\n",
       "5751 2022-02-22  1.12870  1.13660  1.13225  1.13102\n",
       "5752 2022-02-23  1.13003  1.13581  1.13013  1.13223\n",
       "5753 2022-02-24  1.11054  1.13079  1.11894  1.13012\n",
       "5754 2022-02-25  1.11651  1.12732  1.12696  1.11896\n",
       "\n",
       "[5755 rows x 5 columns]"
      ]
     },
     "execution_count": 13,
     "metadata": {},
     "output_type": "execute_result"
    }
   ],
   "source": [
    "df1"
   ]
  },
  {
   "cell_type": "markdown",
   "id": "4f9da086",
   "metadata": {},
   "source": [
    "### Visualisation des données sous forme de serie chronomogique"
   ]
  },
  {
   "cell_type": "code",
   "execution_count": 14,
   "id": "1b818e16",
   "metadata": {
    "scrolled": false
   },
   "outputs": [
    {
     "data": {
      "image/png": "[encoded data removed]",
      "text/plain": [
       "<Figure size 1296x648 with 1 Axes>"
      ]
     },
     "metadata": {
      "needs_background": "light"
     },
     "output_type": "display_data"
    }
   ],
   "source": [
    "plt.figure(figsize=(18,9))\n",
    "plt.plot(range(df.shape[0]),(df['LOW']+df['HIGH'])/2.0)\n",
    "plt.xticks(range(0,df.shape[0],500),df['DATE'].loc[::500],rotation=45)\n",
    "plt.xlabel('DATE',fontsize=18)\n",
    "plt.ylabel('taux moyen EURUSD',fontsize=18)\n",
    "#plt.plot(rolling_mean,color='red',label='Moyenne mobile')\n",
    "#plt.plot(rolling_std,color='black',label='Ecart-type mobile')\n",
    "#plt.legend(loc='best')\n",
    "plt.title('Série chronologique du cours des actions EURUSD')\n",
    "plt.show()"
   ]
  },
  {
   "cell_type": "markdown",
   "id": "89844599",
   "metadata": {},
   "source": [
    "#### On remarque une irrégularité dans l'évolution de la série sur la période de référence, elle présente une forte volatilité de la valeur moyenne de la paire de devise  EURUSD"
   ]
  },
  {
   "cell_type": "markdown",
   "id": "c3dbd326",
   "metadata": {},
   "source": [
    "#### Créons une nouvelle colonne valeur(taux de change moyen EURUSD)"
   ]
  },
  {
   "cell_type": "code",
   "execution_count": 16,
   "id": "07bfed0b",
   "metadata": {},
   "outputs": [],
   "source": [
    "df1['VALEUR']=(df['LOW']+df['HIGH'])/2.0"
   ]
  },
  {
   "cell_type": "code",
   "execution_count": 18,
   "id": "19a22c52",
   "metadata": {},
   "outputs": [
    {
     "data": {
      "text/html": [
       "<div>\n",
       "<style scoped>\n",
       "    .dataframe tbody tr th:only-of-type {\n",
       "        vertical-align: middle;\n",
       "    }\n",
       "\n",
       "    .dataframe tbody tr th {\n",
       "        vertical-align: top;\n",
       "    }\n",
       "\n",
       "    .dataframe thead th {\n",
       "        text-align: right;\n",
       "    }\n",
       "</style>\n",
       "<table border=\"1\" class=\"dataframe\">\n",
       "  <thead>\n",
       "    <tr style=\"text-align: right;\">\n",
       "      <th></th>\n",
       "      <th>DATE</th>\n",
       "      <th>LOW</th>\n",
       "      <th>HIGH</th>\n",
       "      <th>CLOSE</th>\n",
       "      <th>OPEN</th>\n",
       "      <th>VALEUR</th>\n",
       "    </tr>\n",
       "  </thead>\n",
       "  <tbody>\n",
       "    <tr>\n",
       "      <th>0</th>\n",
       "      <td>2000-02-01</td>\n",
       "      <td>0.96670</td>\n",
       "      <td>0.97820</td>\n",
       "      <td>0.97130</td>\n",
       "      <td>0.97110</td>\n",
       "      <td>0.972450</td>\n",
       "    </tr>\n",
       "    <tr>\n",
       "      <th>1</th>\n",
       "      <td>2000-02-02</td>\n",
       "      <td>0.96940</td>\n",
       "      <td>0.98080</td>\n",
       "      <td>0.97650</td>\n",
       "      <td>0.97130</td>\n",
       "      <td>0.975100</td>\n",
       "    </tr>\n",
       "    <tr>\n",
       "      <th>2</th>\n",
       "      <td>2000-02-03</td>\n",
       "      <td>0.97100</td>\n",
       "      <td>0.99470</td>\n",
       "      <td>0.98980</td>\n",
       "      <td>0.97670</td>\n",
       "      <td>0.982850</td>\n",
       "    </tr>\n",
       "    <tr>\n",
       "      <th>3</th>\n",
       "      <td>2000-02-04</td>\n",
       "      <td>0.97470</td>\n",
       "      <td>0.99400</td>\n",
       "      <td>0.98400</td>\n",
       "      <td>0.99000</td>\n",
       "      <td>0.984350</td>\n",
       "    </tr>\n",
       "    <tr>\n",
       "      <th>4</th>\n",
       "      <td>2000-02-07</td>\n",
       "      <td>0.97540</td>\n",
       "      <td>0.98320</td>\n",
       "      <td>0.98090</td>\n",
       "      <td>0.98320</td>\n",
       "      <td>0.979300</td>\n",
       "    </tr>\n",
       "    <tr>\n",
       "      <th>...</th>\n",
       "      <td>...</td>\n",
       "      <td>...</td>\n",
       "      <td>...</td>\n",
       "      <td>...</td>\n",
       "      <td>...</td>\n",
       "      <td>...</td>\n",
       "    </tr>\n",
       "    <tr>\n",
       "      <th>5750</th>\n",
       "      <td>2022-02-21</td>\n",
       "      <td>1.13058</td>\n",
       "      <td>1.13894</td>\n",
       "      <td>1.13112</td>\n",
       "      <td>1.13141</td>\n",
       "      <td>1.134760</td>\n",
       "    </tr>\n",
       "    <tr>\n",
       "      <th>5751</th>\n",
       "      <td>2022-02-22</td>\n",
       "      <td>1.12870</td>\n",
       "      <td>1.13660</td>\n",
       "      <td>1.13225</td>\n",
       "      <td>1.13102</td>\n",
       "      <td>1.132650</td>\n",
       "    </tr>\n",
       "    <tr>\n",
       "      <th>5752</th>\n",
       "      <td>2022-02-23</td>\n",
       "      <td>1.13003</td>\n",
       "      <td>1.13581</td>\n",
       "      <td>1.13013</td>\n",
       "      <td>1.13223</td>\n",
       "      <td>1.132920</td>\n",
       "    </tr>\n",
       "    <tr>\n",
       "      <th>5753</th>\n",
       "      <td>2022-02-24</td>\n",
       "      <td>1.11054</td>\n",
       "      <td>1.13079</td>\n",
       "      <td>1.11894</td>\n",
       "      <td>1.13012</td>\n",
       "      <td>1.120665</td>\n",
       "    </tr>\n",
       "    <tr>\n",
       "      <th>5754</th>\n",
       "      <td>2022-02-25</td>\n",
       "      <td>1.11651</td>\n",
       "      <td>1.12732</td>\n",
       "      <td>1.12696</td>\n",
       "      <td>1.11896</td>\n",
       "      <td>1.121915</td>\n",
       "    </tr>\n",
       "  </tbody>\n",
       "</table>\n",
       "<p>5755 rows × 6 columns</p>\n",
       "</div>"
      ],
      "text/plain": [
       "           DATE      LOW     HIGH    CLOSE     OPEN    VALEUR\n",
       "0    2000-02-01  0.96670  0.97820  0.97130  0.97110  0.972450\n",
       "1    2000-02-02  0.96940  0.98080  0.97650  0.97130  0.975100\n",
       "2    2000-02-03  0.97100  0.99470  0.98980  0.97670  0.982850\n",
       "3    2000-02-04  0.97470  0.99400  0.98400  0.99000  0.984350\n",
       "4    2000-02-07  0.97540  0.98320  0.98090  0.98320  0.979300\n",
       "...         ...      ...      ...      ...      ...       ...\n",
       "5750 2022-02-21  1.13058  1.13894  1.13112  1.13141  1.134760\n",
       "5751 2022-02-22  1.12870  1.13660  1.13225  1.13102  1.132650\n",
       "5752 2022-02-23  1.13003  1.13581  1.13013  1.13223  1.132920\n",
       "5753 2022-02-24  1.11054  1.13079  1.11894  1.13012  1.120665\n",
       "5754 2022-02-25  1.11651  1.12732  1.12696  1.11896  1.121915\n",
       "\n",
       "[5755 rows x 6 columns]"
      ]
     },
     "execution_count": 18,
     "metadata": {},
     "output_type": "execute_result"
    }
   ],
   "source": [
    "df1"
   ]
  },
  {
   "cell_type": "code",
   "execution_count": 19,
   "id": "b34e1ce2",
   "metadata": {},
   "outputs": [],
   "source": [
    "from statsmodels.tsa.stattools import pacf\n",
    "from statsmodels.graphics.tsaplots import plot_pacf"
   ]
  },
  {
   "cell_type": "code",
   "execution_count": 20,
   "id": "1d07a45c",
   "metadata": {},
   "outputs": [],
   "source": [
    "from statsmodels.tsa.seasonal import seasonal_decompose"
   ]
  },
  {
   "cell_type": "markdown",
   "id": "311d2864",
   "metadata": {},
   "source": [
    "#### Legraphique de la série suggère un model multiplicatif car la variation saisonnière varie dans le temps (elle baisse dans notre cas de figure)"
   ]
  },
  {
   "cell_type": "code",
   "execution_count": 21,
   "id": "d5264302",
   "metadata": {},
   "outputs": [],
   "source": [
    "resultat1=seasonal_decompose(df1.VALEUR,model='multiplicable',period=24)"
   ]
  },
  {
   "cell_type": "code",
   "execution_count": 22,
   "id": "c5ffba7d",
   "metadata": {},
   "outputs": [
    {
     "data": {
      "text/plain": [
       "<AxesSubplot:>"
      ]
     },
     "execution_count": 22,
     "metadata": {},
     "output_type": "execute_result"
    },
    {
     "data": {
      "image/png": "[encoded data removed]",
      "text/plain": [
       "<Figure size 432x288 with 1 Axes>"
      ]
     },
     "metadata": {
      "needs_background": "light"
     },
     "output_type": "display_data"
    }
   ],
   "source": [
    "resultat1.seasonal.plot()"
   ]
  },
  {
   "cell_type": "code",
   "execution_count": 23,
   "id": "cd0e6122",
   "metadata": {},
   "outputs": [
    {
     "data": {
      "text/plain": [
       "<AxesSubplot:>"
      ]
     },
     "execution_count": 23,
     "metadata": {},
     "output_type": "execute_result"
    },
    {
     "data": {
      "image/png": "[encoded data removed]",
      "text/plain": [
       "<Figure size 432x288 with 1 Axes>"
      ]
     },
     "metadata": {
      "needs_background": "light"
     },
     "output_type": "display_data"
    }
   ],
   "source": [
    "resultat1.trend.plot()"
   ]
  },
  {
   "cell_type": "code",
   "execution_count": 24,
   "id": "76105ec6",
   "metadata": {},
   "outputs": [
    {
     "data": {
      "text/plain": [
       "<AxesSubplot:>"
      ]
     },
     "execution_count": 24,
     "metadata": {},
     "output_type": "execute_result"
    },
    {
     "data": {
      "image/png": "[encoded data removed]",
      "text/plain": [
       "<Figure size 432x288 with 1 Axes>"
      ]
     },
     "metadata": {
      "needs_background": "light"
     },
     "output_type": "display_data"
    }
   ],
   "source": [
    "resultat1.resid.plot()"
   ]
  },
  {
   "cell_type": "code",
   "execution_count": 25,
   "id": "19d65adc",
   "metadata": {},
   "outputs": [
    {
     "data": {
      "image/png": "[encoded data removed]",
      "text/plain": [
       "<Figure size 432x288 with 4 Axes>"
      ]
     },
     "execution_count": 25,
     "metadata": {},
     "output_type": "execute_result"
    },
    {
     "data": {
      "image/png": "[encoded data removed]",
      "text/plain": [
       "<Figure size 432x288 with 4 Axes>"
      ]
     },
     "metadata": {
      "needs_background": "light"
     },
     "output_type": "display_data"
    }
   ],
   "source": [
    "resultat1.plot()"
   ]
  },
  {
   "cell_type": "markdown",
   "id": "e3fb916d",
   "metadata": {},
   "source": [
    "#### Après décomposition de la serie, on constate une forte volatilité des résidus, laissant un doute quant à la satationarité du la série.\n",
    "### Procédons au test de Dickey-Fuller augmenté\n",
    "#####     Hypothèses du test:\n",
    "######     H0: La Série temporelle est non stationnaire (elle a une structure dépendante du temps)\n",
    "######    H1: La Série temporelle est stationnaire "
   ]
  },
  {
   "cell_type": "code",
   "execution_count": 26,
   "id": "fca35e48",
   "metadata": {},
   "outputs": [],
   "source": [
    "from statsmodels.tsa.stattools import adfuller"
   ]
  },
  {
   "cell_type": "code",
   "execution_count": 27,
   "id": "ffc24f1a",
   "metadata": {},
   "outputs": [
    {
     "data": {
      "text/plain": [
       "(-1.9396670627208348,\n",
       " 0.3136366049622411,\n",
       " 3,\n",
       " 5751,\n",
       " {'1%': -3.4314875797597644,\n",
       "  '5%': -2.8620427016919505,\n",
       "  '10%': -2.5670375862348798},\n",
       " -43662.5829062513)"
      ]
     },
     "execution_count": 27,
     "metadata": {},
     "output_type": "execute_result"
    }
   ],
   "source": [
    "adfuller(df1.VALEUR)"
   ]
  },
  {
   "cell_type": "markdown",
   "id": "d9ec62ee",
   "metadata": {},
   "source": [
    "#####     Interprétation des résultats\n",
    "######     La statistique du test  est :-1,9396\n",
    "######    La valeur P est : 0,3136 \n",
    "######    Puisque la valeur de P est  supérieure à 0,05 , nous ne rejetons pas l'hypothèse nulle (H0). Cela signifie que la série chronologique n'est pas stationnaire. Nous traiterons ce cas dans le processus de normalisation des données. "
   ]
  },
  {
   "cell_type": "markdown",
   "id": "da245a59",
   "metadata": {},
   "source": [
    "### Fractionnement du jeu de données en jeu d'apprentissage et jeu de test"
   ]
  },
  {
   "cell_type": "code",
   "execution_count": 28,
   "id": "bbbe2eab",
   "metadata": {},
   "outputs": [],
   "source": [
    "Prix_moyen=df1['VALEUR']"
   ]
  },
  {
   "cell_type": "markdown",
   "id": "09d52f0a",
   "metadata": {},
   "source": [
    "#### Transformation du jeu de données en dataset apte à la normalisation des données"
   ]
  },
  {
   "cell_type": "code",
   "execution_count": 29,
   "id": "2cb0aa3f",
   "metadata": {},
   "outputs": [],
   "source": [
    "dataset1=df1.drop(['DATE','LOW','HIGH','CLOSE','OPEN'],axis=1)\n",
    "dataset2 = dataset1.values\n",
    "dataset = dataset2.astype('float32')"
   ]
  },
  {
   "cell_type": "markdown",
   "id": "f4639f45",
   "metadata": {},
   "source": [
    "###       Normalisation du jeu de données\n",
    "#####       Redimensionnons les données dans la plage de 0 à 1 à l'aide de la classe de prétraitement MinMaxScaler de la bibliothèque scikit-learn."
   ]
  },
  {
   "cell_type": "code",
   "execution_count": 30,
   "id": "42250cd5",
   "metadata": {},
   "outputs": [],
   "source": [
    "scaler = MinMaxScaler(feature_range=(0, 1))\n",
    "dataset = scaler.fit_transform(dataset)"
   ]
  },
  {
   "cell_type": "code",
   "execution_count": 31,
   "id": "f9d54a41",
   "metadata": {},
   "outputs": [
    {
     "data": {
      "text/plain": [
       "array([[0.18865216],\n",
       "       [0.1921047 ],\n",
       "       [0.20220184],\n",
       "       ...,\n",
       "       [0.39771998],\n",
       "       [0.38175356],\n",
       "       [0.3833822 ]], dtype=float32)"
      ]
     },
     "execution_count": 31,
     "metadata": {},
     "output_type": "execute_result"
    }
   ],
   "source": [
    "dataset"
   ]
  },
  {
   "cell_type": "code",
   "execution_count": 32,
   "id": "36ec3bce",
   "metadata": {},
   "outputs": [],
   "source": [
    "import tensorflow as tf"
   ]
  },
  {
   "cell_type": "code",
   "execution_count": 33,
   "id": "6990ea8f",
   "metadata": {},
   "outputs": [],
   "source": [
    "from keras.models import Sequential\n",
    "from keras.layers import Dense\n",
    "from keras.layers import LSTM\n",
    "from sklearn.preprocessing import MinMaxScaler\n",
    "from sklearn.metrics import mean_squared_error"
   ]
  },
  {
   "cell_type": "code",
   "execution_count": 34,
   "id": "712f5655",
   "metadata": {},
   "outputs": [
    {
     "name": "stdout",
     "output_type": "stream",
     "text": [
      "3855 1900\n"
     ]
    }
   ],
   "source": [
    "# split into train and test sets\n",
    "train_size = int(len(dataset) * 0.67)\n",
    "test_size = len(dataset) - train_size\n",
    "train, test = dataset[0:train_size,:], dataset[train_size:len(dataset),:]\n",
    "print(len(train), len(test))"
   ]
  },
  {
   "cell_type": "markdown",
   "id": "35aa995c",
   "metadata": {},
   "source": [
    "#### Définissons une fonction pour créer un nouveau jeu de données où X est la valeur (EUR8USD) à un instant donné (t) et Y est la valeur à l''instant suivant (t + 1). Il peut être configuré, et nous le ferons en construisant un ensemble de données de forme différente dans la section suivante."
   ]
  },
  {
   "cell_type": "code",
   "execution_count": 35,
   "id": "9d5cf5af",
   "metadata": {},
   "outputs": [],
   "source": [
    "def create_dataset(dataset, look_back=1):\n",
    "    dataX, dataY = [], []\n",
    "    for i in range(len(dataset)-look_back-1):\n",
    "        a = dataset[i:(i+look_back), 0]\n",
    "        dataX.append(a)\n",
    "        dataY.append(dataset[i + look_back, 0])\n",
    "    return np.array(dataX), np.array(dataY)"
   ]
  },
  {
   "cell_type": "markdown",
   "id": "b30103c7",
   "metadata": {},
   "source": [
    "### Préparons les ensembles de données d'entraînement et de test pour la modélisation."
   ]
  },
  {
   "cell_type": "code",
   "execution_count": 36,
   "id": "cec8ba9d",
   "metadata": {},
   "outputs": [],
   "source": [
    "look_back = 1\n",
    "trainX, trainY = create_dataset(train, look_back)\n",
    "testX, testY = create_dataset(test, look_back)"
   ]
  },
  {
   "cell_type": "markdown",
   "id": "5393ad27",
   "metadata": {},
   "source": [
    "#### Transformons le train préparé et testons les données d'entrée à l'aide de numpy.reshape()."
   ]
  },
  {
   "cell_type": "code",
   "execution_count": 37,
   "id": "1dbe2661",
   "metadata": {},
   "outputs": [],
   "source": [
    "trainX = numpy.reshape(trainX, (trainX.shape[0], 1, trainX.shape[1]))\n",
    "testX = numpy.reshape(testX, (testX.shape[0], 1, testX.shape[1]))"
   ]
  },
  {
   "cell_type": "markdown",
   "id": "d5e00d46",
   "metadata": {},
   "source": [
    "## Conception du réseau LSTM"
   ]
  },
  {
   "cell_type": "markdown",
   "id": "ef6c27a4",
   "metadata": {},
   "source": [
    "#### Notre réseau est formé pour 100 époques, a une couche visible avec 1 entrée, une couche cachée avec 4 neurones, et une couche de sortie qui fait une prédiction de valeur unique. Nous utilisons la fonction d'activation sigmoïde (fonction par défaut pour les blocs LSTM). "
   ]
  },
  {
   "cell_type": "code",
   "execution_count": 38,
   "id": "b4531557",
   "metadata": {},
   "outputs": [
    {
     "name": "stdout",
     "output_type": "stream",
     "text": [
      "Epoch 1/100\n",
      "3853/3853 - 9s - loss: 0.0141 - 9s/epoch - 2ms/step\n",
      "Epoch 2/100\n",
      "3853/3853 - 7s - loss: 9.1714e-05 - 7s/epoch - 2ms/step\n",
      "Epoch 3/100\n",
      "3853/3853 - 7s - loss: 9.2076e-05 - 7s/epoch - 2ms/step\n",
      "Epoch 4/100\n",
      "3853/3853 - 7s - loss: 9.2361e-05 - 7s/epoch - 2ms/step\n",
      "Epoch 5/100\n",
      "3853/3853 - 7s - loss: 9.1845e-05 - 7s/epoch - 2ms/step\n",
      "Epoch 6/100\n",
      "3853/3853 - 7s - loss: 9.2692e-05 - 7s/epoch - 2ms/step\n",
      "Epoch 7/100\n",
      "3853/3853 - 7s - loss: 8.9735e-05 - 7s/epoch - 2ms/step\n",
      "Epoch 8/100\n",
      "3853/3853 - 7s - loss: 9.0380e-05 - 7s/epoch - 2ms/step\n",
      "Epoch 9/100\n",
      "3853/3853 - 7s - loss: 8.8676e-05 - 7s/epoch - 2ms/step\n",
      "Epoch 10/100\n",
      "3853/3853 - 7s - loss: 9.0772e-05 - 7s/epoch - 2ms/step\n",
      "Epoch 11/100\n",
      "3853/3853 - 7s - loss: 9.0553e-05 - 7s/epoch - 2ms/step\n",
      "Epoch 12/100\n",
      "3853/3853 - 7s - loss: 8.8269e-05 - 7s/epoch - 2ms/step\n",
      "Epoch 13/100\n",
      "3853/3853 - 7s - loss: 8.9474e-05 - 7s/epoch - 2ms/step\n",
      "Epoch 14/100\n",
      "3853/3853 - 7s - loss: 8.9158e-05 - 7s/epoch - 2ms/step\n",
      "Epoch 15/100\n",
      "3853/3853 - 7s - loss: 8.8651e-05 - 7s/epoch - 2ms/step\n",
      "Epoch 16/100\n",
      "3853/3853 - 7s - loss: 8.8024e-05 - 7s/epoch - 2ms/step\n",
      "Epoch 17/100\n",
      "3853/3853 - 7s - loss: 8.8878e-05 - 7s/epoch - 2ms/step\n",
      "Epoch 18/100\n",
      "3853/3853 - 7s - loss: 8.8335e-05 - 7s/epoch - 2ms/step\n",
      "Epoch 19/100\n",
      "3853/3853 - 7s - loss: 8.7234e-05 - 7s/epoch - 2ms/step\n",
      "Epoch 20/100\n",
      "3853/3853 - 7s - loss: 8.7413e-05 - 7s/epoch - 2ms/step\n",
      "Epoch 21/100\n",
      "3853/3853 - 7s - loss: 8.7198e-05 - 7s/epoch - 2ms/step\n",
      "Epoch 22/100\n",
      "3853/3853 - 8s - loss: 8.6568e-05 - 8s/epoch - 2ms/step\n",
      "Epoch 23/100\n",
      "3853/3853 - 8s - loss: 8.4253e-05 - 8s/epoch - 2ms/step\n",
      "Epoch 24/100\n",
      "3853/3853 - 7s - loss: 8.5845e-05 - 7s/epoch - 2ms/step\n",
      "Epoch 25/100\n",
      "3853/3853 - 7s - loss: 8.7072e-05 - 7s/epoch - 2ms/step\n",
      "Epoch 26/100\n",
      "3853/3853 - 7s - loss: 8.5797e-05 - 7s/epoch - 2ms/step\n",
      "Epoch 27/100\n",
      "3853/3853 - 7s - loss: 8.6931e-05 - 7s/epoch - 2ms/step\n",
      "Epoch 28/100\n",
      "3853/3853 - 7s - loss: 8.6942e-05 - 7s/epoch - 2ms/step\n",
      "Epoch 29/100\n",
      "3853/3853 - 7s - loss: 8.6135e-05 - 7s/epoch - 2ms/step\n",
      "Epoch 30/100\n",
      "3853/3853 - 7s - loss: 8.4008e-05 - 7s/epoch - 2ms/step\n",
      "Epoch 31/100\n",
      "3853/3853 - 7s - loss: 8.6889e-05 - 7s/epoch - 2ms/step\n",
      "Epoch 32/100\n",
      "3853/3853 - 7s - loss: 8.5041e-05 - 7s/epoch - 2ms/step\n",
      "Epoch 33/100\n",
      "3853/3853 - 7s - loss: 8.7300e-05 - 7s/epoch - 2ms/step\n",
      "Epoch 34/100\n",
      "3853/3853 - 7s - loss: 8.6428e-05 - 7s/epoch - 2ms/step\n",
      "Epoch 35/100\n",
      "3853/3853 - 8s - loss: 8.5667e-05 - 8s/epoch - 2ms/step\n",
      "Epoch 36/100\n",
      "3853/3853 - 7s - loss: 8.3236e-05 - 7s/epoch - 2ms/step\n",
      "Epoch 37/100\n",
      "3853/3853 - 7s - loss: 8.5963e-05 - 7s/epoch - 2ms/step\n",
      "Epoch 38/100\n",
      "3853/3853 - 7s - loss: 8.4136e-05 - 7s/epoch - 2ms/step\n",
      "Epoch 39/100\n",
      "3853/3853 - 7s - loss: 8.3780e-05 - 7s/epoch - 2ms/step\n",
      "Epoch 40/100\n",
      "3853/3853 - 7s - loss: 8.4169e-05 - 7s/epoch - 2ms/step\n",
      "Epoch 41/100\n",
      "3853/3853 - 7s - loss: 8.6304e-05 - 7s/epoch - 2ms/step\n",
      "Epoch 42/100\n",
      "3853/3853 - 7s - loss: 8.5249e-05 - 7s/epoch - 2ms/step\n",
      "Epoch 43/100\n",
      "3853/3853 - 7s - loss: 8.3524e-05 - 7s/epoch - 2ms/step\n",
      "Epoch 44/100\n",
      "3853/3853 - 7s - loss: 8.5466e-05 - 7s/epoch - 2ms/step\n",
      "Epoch 45/100\n",
      "3853/3853 - 7s - loss: 8.3017e-05 - 7s/epoch - 2ms/step\n",
      "Epoch 46/100\n",
      "3853/3853 - 7s - loss: 8.4310e-05 - 7s/epoch - 2ms/step\n",
      "Epoch 47/100\n",
      "3853/3853 - 7s - loss: 8.2446e-05 - 7s/epoch - 2ms/step\n",
      "Epoch 48/100\n",
      "3853/3853 - 7s - loss: 8.3215e-05 - 7s/epoch - 2ms/step\n",
      "Epoch 49/100\n",
      "3853/3853 - 7s - loss: 8.1003e-05 - 7s/epoch - 2ms/step\n",
      "Epoch 50/100\n",
      "3853/3853 - 7s - loss: 8.2079e-05 - 7s/epoch - 2ms/step\n",
      "Epoch 51/100\n",
      "3853/3853 - 8s - loss: 8.2252e-05 - 8s/epoch - 2ms/step\n",
      "Epoch 52/100\n",
      "3853/3853 - 7s - loss: 8.2046e-05 - 7s/epoch - 2ms/step\n",
      "Epoch 53/100\n",
      "3853/3853 - 7s - loss: 8.1790e-05 - 7s/epoch - 2ms/step\n",
      "Epoch 54/100\n",
      "3853/3853 - 7s - loss: 8.3608e-05 - 7s/epoch - 2ms/step\n",
      "Epoch 55/100\n",
      "3853/3853 - 7s - loss: 8.1674e-05 - 7s/epoch - 2ms/step\n",
      "Epoch 56/100\n",
      "3853/3853 - 7s - loss: 8.1082e-05 - 7s/epoch - 2ms/step\n",
      "Epoch 57/100\n",
      "3853/3853 - 7s - loss: 8.1816e-05 - 7s/epoch - 2ms/step\n",
      "Epoch 58/100\n",
      "3853/3853 - 7s - loss: 8.1404e-05 - 7s/epoch - 2ms/step\n",
      "Epoch 59/100\n",
      "3853/3853 - 7s - loss: 8.1595e-05 - 7s/epoch - 2ms/step\n",
      "Epoch 60/100\n",
      "3853/3853 - 7s - loss: 8.1446e-05 - 7s/epoch - 2ms/step\n",
      "Epoch 61/100\n",
      "3853/3853 - 7s - loss: 8.1249e-05 - 7s/epoch - 2ms/step\n",
      "Epoch 62/100\n",
      "3853/3853 - 7s - loss: 8.2076e-05 - 7s/epoch - 2ms/step\n",
      "Epoch 63/100\n",
      "3853/3853 - 7s - loss: 8.2124e-05 - 7s/epoch - 2ms/step\n",
      "Epoch 64/100\n",
      "3853/3853 - 7s - loss: 8.0318e-05 - 7s/epoch - 2ms/step\n",
      "Epoch 65/100\n",
      "3853/3853 - 7s - loss: 7.8782e-05 - 7s/epoch - 2ms/step\n",
      "Epoch 66/100\n",
      "3853/3853 - 7s - loss: 7.9575e-05 - 7s/epoch - 2ms/step\n",
      "Epoch 67/100\n",
      "3853/3853 - 7s - loss: 8.1004e-05 - 7s/epoch - 2ms/step\n",
      "Epoch 68/100\n",
      "3853/3853 - 8s - loss: 7.9792e-05 - 8s/epoch - 2ms/step\n",
      "Epoch 69/100\n",
      "3853/3853 - 7s - loss: 8.0912e-05 - 7s/epoch - 2ms/step\n",
      "Epoch 70/100\n",
      "3853/3853 - 8s - loss: 8.0715e-05 - 8s/epoch - 2ms/step\n",
      "Epoch 71/100\n",
      "3853/3853 - 8s - loss: 8.1428e-05 - 8s/epoch - 2ms/step\n",
      "Epoch 72/100\n",
      "3853/3853 - 8s - loss: 7.9701e-05 - 8s/epoch - 2ms/step\n",
      "Epoch 73/100\n",
      "3853/3853 - 7s - loss: 8.0760e-05 - 7s/epoch - 2ms/step\n",
      "Epoch 74/100\n",
      "3853/3853 - 8s - loss: 8.0869e-05 - 8s/epoch - 2ms/step\n",
      "Epoch 75/100\n",
      "3853/3853 - 7s - loss: 7.8727e-05 - 7s/epoch - 2ms/step\n",
      "Epoch 76/100\n",
      "3853/3853 - 8s - loss: 7.9776e-05 - 8s/epoch - 2ms/step\n",
      "Epoch 77/100\n",
      "3853/3853 - 8s - loss: 8.1008e-05 - 8s/epoch - 2ms/step\n",
      "Epoch 78/100\n",
      "3853/3853 - 7s - loss: 8.1433e-05 - 7s/epoch - 2ms/step\n",
      "Epoch 79/100\n",
      "3853/3853 - 7s - loss: 8.1095e-05 - 7s/epoch - 2ms/step\n",
      "Epoch 80/100\n",
      "3853/3853 - 8s - loss: 7.8534e-05 - 8s/epoch - 2ms/step\n",
      "Epoch 81/100\n",
      "3853/3853 - 7s - loss: 7.9392e-05 - 7s/epoch - 2ms/step\n",
      "Epoch 82/100\n",
      "3853/3853 - 7s - loss: 8.0873e-05 - 7s/epoch - 2ms/step\n",
      "Epoch 83/100\n",
      "3853/3853 - 7s - loss: 8.0474e-05 - 7s/epoch - 2ms/step\n",
      "Epoch 84/100\n",
      "3853/3853 - 8s - loss: 7.9345e-05 - 8s/epoch - 2ms/step\n",
      "Epoch 85/100\n",
      "3853/3853 - 8s - loss: 7.9502e-05 - 8s/epoch - 2ms/step\n",
      "Epoch 86/100\n",
      "3853/3853 - 7s - loss: 7.8820e-05 - 7s/epoch - 2ms/step\n",
      "Epoch 87/100\n",
      "3853/3853 - 7s - loss: 7.9167e-05 - 7s/epoch - 2ms/step\n",
      "Epoch 88/100\n",
      "3853/3853 - 7s - loss: 8.0417e-05 - 7s/epoch - 2ms/step\n",
      "Epoch 89/100\n",
      "3853/3853 - 7s - loss: 7.9788e-05 - 7s/epoch - 2ms/step\n",
      "Epoch 90/100\n",
      "3853/3853 - 7s - loss: 8.0384e-05 - 7s/epoch - 2ms/step\n",
      "Epoch 91/100\n",
      "3853/3853 - 8s - loss: 7.9977e-05 - 8s/epoch - 2ms/step\n",
      "Epoch 92/100\n",
      "3853/3853 - 8s - loss: 7.9704e-05 - 8s/epoch - 2ms/step\n",
      "Epoch 93/100\n",
      "3853/3853 - 7s - loss: 7.8569e-05 - 7s/epoch - 2ms/step\n",
      "Epoch 94/100\n",
      "3853/3853 - 7s - loss: 7.8974e-05 - 7s/epoch - 2ms/step\n",
      "Epoch 95/100\n",
      "3853/3853 - 7s - loss: 7.9989e-05 - 7s/epoch - 2ms/step\n",
      "Epoch 96/100\n",
      "3853/3853 - 7s - loss: 7.7949e-05 - 7s/epoch - 2ms/step\n",
      "Epoch 97/100\n",
      "3853/3853 - 7s - loss: 7.8898e-05 - 7s/epoch - 2ms/step\n",
      "Epoch 98/100\n",
      "3853/3853 - 7s - loss: 7.9424e-05 - 7s/epoch - 2ms/step\n",
      "Epoch 99/100\n",
      "3853/3853 - 7s - loss: 7.9757e-05 - 7s/epoch - 2ms/step\n",
      "Epoch 100/100\n",
      "3853/3853 - 7s - loss: 8.0211e-05 - 7s/epoch - 2ms/step\n"
     ]
    },
    {
     "data": {
      "text/plain": [
       "<keras.callbacks.History at 0x2260c00b820>"
      ]
     },
     "execution_count": 38,
     "metadata": {},
     "output_type": "execute_result"
    }
   ],
   "source": [
    "model = Sequential()\n",
    "model.add(LSTM(4, input_shape=(1, look_back)))\n",
    "model.add(Dense(1))\n",
    "model.compile(loss='mean_squared_error', optimizer='adam')\n",
    "model.fit(trainX, trainY, epochs=100, batch_size=1, verbose=2)"
   ]
  },
  {
   "cell_type": "markdown",
   "id": "5585778f",
   "metadata": {},
   "source": [
    "### Evaluation du modèle"
   ]
  },
  {
   "cell_type": "markdown",
   "id": "e521e752",
   "metadata": {},
   "source": [
    "### Prédiction"
   ]
  },
  {
   "cell_type": "code",
   "execution_count": 39,
   "id": "8ed9f799",
   "metadata": {},
   "outputs": [
    {
     "name": "stdout",
     "output_type": "stream",
     "text": [
      "121/121 [==============================] - 1s 2ms/step\n",
      "60/60 [==============================] - 0s 2ms/step\n"
     ]
    }
   ],
   "source": [
    "trainPredict = model.predict(trainX)\n",
    "testPredict = model.predict(testX)"
   ]
  },
  {
   "cell_type": "markdown",
   "id": "cbe1b503",
   "metadata": {},
   "source": [
    "### Prédictions et transformations inverses"
   ]
  },
  {
   "cell_type": "code",
   "execution_count": 40,
   "id": "4c76160c",
   "metadata": {},
   "outputs": [],
   "source": [
    "trainPredict = scaler.inverse_transform(trainPredict)\n",
    "trainY = scaler.inverse_transform([trainY])\n",
    "testPredict = scaler.inverse_transform(testPredict)\n",
    "testY = scaler.inverse_transform([testY])"
   ]
  },
  {
   "cell_type": "markdown",
   "id": "e623d14a",
   "metadata": {},
   "source": [
    "### Calcul de l'erreur quadratique moyenne\n",
    "#### Calcul des pertes RMSE ( dans notre cas de figure, nous avons utilisé 'Adam' comme optimiseur,il est recent et performant )"
   ]
  },
  {
   "cell_type": "code",
   "execution_count": 41,
   "id": "97cde12d",
   "metadata": {},
   "outputs": [
    {
     "name": "stdout",
     "output_type": "stream",
     "text": [
      "Train Score: 0.01 RMSE\n",
      "Test Score: 0.00 RMSE\n"
     ]
    }
   ],
   "source": [
    "trainScore = math.sqrt(mean_squared_error(trainY[0], trainPredict[:,0]))\n",
    "print('Train Score: %.2f RMSE' % (trainScore))\n",
    "testScore = math.sqrt(mean_squared_error(testY[0], testPredict[:,0]))\n",
    "print('Test Score: %.2f RMSE' % (testScore))"
   ]
  },
  {
   "cell_type": "markdown",
   "id": "0dc74d66",
   "metadata": {},
   "source": [
    "### Prédiction du train de décalage pour le traçage"
   ]
  },
  {
   "cell_type": "code",
   "execution_count": 42,
   "id": "c9de33d9",
   "metadata": {},
   "outputs": [],
   "source": [
    "trainPredictPlot = numpy.empty_like(dataset)\n",
    "trainPredictPlot[:, :] = numpy.nan\n",
    "trainPredictPlot[look_back:len(trainPredict)+look_back, :] = trainPredict"
   ]
  },
  {
   "cell_type": "markdown",
   "id": "21d05bbd",
   "metadata": {},
   "source": [
    "### Prédiction de test de décalage pour le traçage"
   ]
  },
  {
   "cell_type": "code",
   "execution_count": 43,
   "id": "ed167102",
   "metadata": {},
   "outputs": [],
   "source": [
    "testPredictPlot = numpy.empty_like(dataset)\n",
    "testPredictPlot[:, :] = numpy.nan\n",
    "testPredictPlot[len(trainPredict)+(look_back*2)+1:len(dataset)-1, :] = testPredict"
   ]
  },
  {
   "cell_type": "markdown",
   "id": "2b50e2bc",
   "metadata": {},
   "source": [
    "### Tracer de ligne de base et prévision"
   ]
  },
  {
   "cell_type": "code",
   "execution_count": 44,
   "id": "b019328a",
   "metadata": {},
   "outputs": [
    {
     "data": {
      "image/png": "[encoded data removed]",
      "text/plain": [
       "<Figure size 432x288 with 1 Axes>"
      ]
     },
     "metadata": {
      "needs_background": "light"
     },
     "output_type": "display_data"
    }
   ],
   "source": [
    "plt.plot(scaler.inverse_transform(dataset))\n",
    "plt.plot(trainPredictPlot)\n",
    "plt.plot(testPredictPlot)\n",
    "plt.show()"
   ]
  },
  {
   "cell_type": "markdown",
   "id": "e21d12ca",
   "metadata": {},
   "source": [
    "#### S'il est vrai qu'il n'existe pas de modèle parfait à la base; les LSTM sont capables de prédire correctement le comportement du cours des actions dans le temps, comme on peut le voir."
   ]
  },
  {
   "cell_type": "code",
   "execution_count": null,
   "id": "843e3396",
   "metadata": {},
   "outputs": [],
   "source": []
  }
 ],
 "metadata": {
  "celltoolbar": "Format de la Cellule Texte Brut",
  "kernelspec": {
   "display_name": "Python 3 (ipykernel)",
   "language": "python",
   "name": "python3"
  },
  "language_info": {
   "codemirror_mode": {
    "name": "ipython",
    "version": 3
   },
   "file_extension": ".py",
   "mimetype": "text/x-python",
   "name": "python",
   "nbconvert_exporter": "python",
   "pygments_lexer": "ipython3",
   "version": "3.9.7"
  }
 },
 "nbformat": 4,
 "nbformat_minor": 5
}
